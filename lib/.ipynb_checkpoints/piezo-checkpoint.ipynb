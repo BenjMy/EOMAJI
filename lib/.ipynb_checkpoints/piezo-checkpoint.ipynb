{
 "cells": [
  {
   "cell_type": "code",
   "execution_count": 1,
   "id": "3415e868-c80a-402a-824b-78d1f0981fec",
   "metadata": {},
   "outputs": [],
   "source": [
    "#!pip install Pathlib"
   ]
  },
  {
   "cell_type": "code",
   "execution_count": 28,
   "id": "0c9bc04b-8b96-4c75-9ccd-f67a982fe1b8",
   "metadata": {},
   "outputs": [],
   "source": [
    "import pandas as pd\n",
    "import xmltodict\n",
    "from pathlib import Path\n",
    "import xml.etree.ElementTree as ET\n",
    "import matplotlib.pyplot as plt\n",
    "# Load the XML file (replace 'your_file.xml' with the actual file path)\n",
    "# xml_file = '../prepro/Majadas/Piezo/ES030ESBT03-09-001 (1).xml'\n"
   ]
  },
  {
   "cell_type": "code",
   "execution_count": null,
   "id": "b9190876-f304-4dbd-b520-dfe8e5e6b001",
   "metadata": {},
   "outputs": [],
   "source": [
    "folder_path = Path('../prepro/Majadas/Piezo/')\n",
    "\n",
    "xml_file\n",
    "xml_files = list(folder_path.glob('*.xml'))\n",
    "for xmlfile in xml_files:\n",
    "    tree = ET.parse(xmlfile)\n",
    "    root = tree.getroot()\n"
   ]
  },
  {
   "cell_type": "code",
   "execution_count": 15,
   "id": "e54b8446-61e1-4526-921c-8317a8e68e8f",
   "metadata": {},
   "outputs": [],
   "source": [
    "def build_df():\n",
    "    # Define namespaces\n",
    "    ns = {'ss': 'urn:schemas-microsoft-com:office:spreadsheet'}\n",
    "\n",
    "    # Extract all rows\n",
    "    all_rows = root.findall('.//ss:Row', ns)\n",
    "\n",
    "    # Extract the headers (second row)\n",
    "    headers = [cell.find('ss:Data', ns).text for cell in all_rows[1].findall('ss:Cell', ns)]\n",
    "\n",
    "    # Extract the data (starting from the third row)\n",
    "    data = []\n",
    "    for row in all_rows[2:]:\n",
    "        row_data = [cell.find('ss:Data', ns).text if cell.find('ss:Data', ns) is not None else None for cell in row.findall('ss:Cell', ns)]\n",
    "        data.append(row_data)\n",
    "        \n",
    "    df = pd.DataFrame(data, columns=headers)\n",
    "    \n",
    "    df['Nivel'] = df['Nivel'].str.replace(',', '.')\n",
    "    df['Nivel'] = df['Nivel'].astype(float)\n",
    "    return df "
   ]
  },
  {
   "cell_type": "code",
   "execution_count": 16,
   "id": "4216bc7d-ad88-4441-bbdd-bb4b57f9ec70",
   "metadata": {},
   "outputs": [],
   "source": [
    "xml_files = list(folder_path.glob('*.xml'))\n",
    "DF = []\n",
    "for xmlfile in xml_files:\n",
    "    tree = ET.parse(xmlfile)\n",
    "    root = tree.getroot()\n",
    "    DF.append(build_df())"
   ]
  },
  {
   "cell_type": "code",
   "execution_count": 30,
   "id": "45bf7a7c-369a-4bdc-b3f3-c2c3d241fc38",
   "metadata": {},
   "outputs": [
    {
     "data": {
      "text/plain": [
       "Index(['Cod. Piezómetro', 'Cod. Europeo', 'Profundidad obra (m)', 'Provincia',\n",
       "       'Municipio', 'Fecha Nivel', 'Nº Medidas', 'Nombre',\n",
       "       'Demarcación Hidrográfica',\n",
       "       'Masa de agua subterránea sobre la que se sitúa el piezómetro',\n",
       "       'Unidad Hidrogeológica', 'Cota terreno (msnm)', 'Profundidad (m)',\n",
       "       'Coordenada X (ETRS89)', 'Coordenada Y (ETRS89)', 'Descripción',\n",
       "       'Fecha', 'Nivel', 'Cota'],\n",
       "      dtype='object')"
      ]
     },
     "execution_count": 30,
     "metadata": {},
     "output_type": "execute_result"
    }
   ],
   "source": [
    "PIEZO = pd.concat(DF)\n",
    "#PIEZO.set_index(['Cod. Piezómetro','Fecha'],inplace=True)\n",
    "PIEZO.columns"
   ]
  },
  {
   "cell_type": "code",
   "execution_count": 32,
   "id": "ad6ae802-9ffd-47e4-9f14-399bf36233d1",
   "metadata": {},
   "outputs": [
    {
     "data": {
      "text/plain": [
       "<matplotlib.legend.Legend at 0x7fd4a3859a90>"
      ]
     },
     "execution_count": 32,
     "metadata": {},
     "output_type": "execute_result"
    },
    {
     "data": {
      "image/png": "[encoded data removed]",
      "text/plain": [
       "<Figure size 432x288 with 1 Axes>"
      ]
     },
     "metadata": {
      "needs_background": "light"
     },
     "output_type": "display_data"
    }
   ],
   "source": [
    "fig, ax = plt.subplots()\n",
    "PIEZO.groupby('Cod. Piezómetro').plot(x='Fecha',y='Nivel',ax=ax,\n",
    "                                     )\n",
    "plt.legend(PIEZO['Cod. Piezómetro'].unique())"
   ]
  }
 ],
 "metadata": {
  "kernelspec": {
   "display_name": "Python 3 (ipykernel)",
   "language": "python",
   "name": "python3"
  },
  "language_info": {
   "codemirror_mode": {
    "name": "ipython",
    "version": 3
   },
   "file_extension": ".py",
   "mimetype": "text/x-python",
   "name": "python",
   "nbconvert_exporter": "python",
   "pygments_lexer": "ipython3",
   "version": "3.9.9"
  }
 },
 "nbformat": 4,
 "nbformat_minor": 5
}
