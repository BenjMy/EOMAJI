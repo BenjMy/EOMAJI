{
 "cells": [
  {
   "cell_type": "markdown",
   "id": "613eaf50-e4f0-4328-b0be-c246fb216577",
   "metadata": {},
   "source": [
    "---\n",
    "title: Inline Interactivity in Jupyter using MyST\n",
    "subtitle: Using inline widgets in JupyterLab markdown cells\n",
    "license: CC-BY-4.0\n",
    "author:\n",
    "  - name: Rowan Cockett\n",
    "    affiliations: Executable Books; Curvenote\n",
    "    orcid: 0000-0002-7859-8394\n",
    "    email: rowan@curvenote.com\n",
    "  - name: Angus Hollands\n",
    "    affiliations: Executable Books\n",
    "  - name: Steve Purves\n",
    "    affiliations: Executable Books; Curvenote\n",
    "date: 2023/02/20\n",
    "---\n",
    "\n",
    "The [JupyterLab MyST extension](https://github.com/executablebooks/jupyterlab-myst) allows you to have MyST renderer in your markdown cells that includes interactivity and inline-evaluation."
   ]
  },
  {
   "cell_type": "markdown",
   "id": "d3c1dba2-889d-4817-8d48-83d45c03a337",
   "metadata": {
    "tags": [],
    "user_expressions": [
     {
      "expression": "1 + 1",
      "result": {
       "data": {
        "text/plain": "2"
       },
       "metadata": {},
       "status": "ok"
      }
     }
    ]
   },
   "source": [
    "This is done through the `` {eval}`1 + 1` `` role, which results in {eval}`1 + 1`. The extension can also access variables in the kernel."
   ]
  },
  {
   "cell_type": "code",
   "execution_count": 1,
   "id": "90dffa46-b084-4b24-a650-e5f5a9aa526e",
   "metadata": {},
   "outputs": [],
   "source": [
    "import numpy as np\n",
    "array = np.arange(4)"
   ]
  },
  {
   "cell_type": "markdown",
   "id": "e8af4aa1-9d91-494e-9a76-4d57a611d9e0",
   "metadata": {
    "tags": [],
    "user_expressions": [
     {
      "expression": "array",
      "result": {
       "data": {
        "text/plain": "array([0, 1, 2, 3])"
       },
       "metadata": {},
       "status": "ok"
      }
     }
    ]
   },
   "source": [
    ":::{exercise}\n",
    ":label: inline-arrays\n",
    "\n",
    "Let's consider the following array: {eval}`array`.\n",
    "\n",
    "SUM\n",
    ": We compute the total using `array.sum()`, which is ???\n",
    "\n",
    "MAX\n",
    ": We compute the maximum value using `array.max()`, which is ???\n",
    "\n",
    ":::\n",
    "\n",
    "🛠 In [](#inline-arrays) replace each `???` with an `{eval}` role for the correct expression\n",
    "\n",
    ":::{solution} inline-arrays\n",
    ":class: dropdown\n",
    "This is done through using MyST syntax: `` {eval}`array.sum()` `` and `` {eval}`array.max()` ``, respectively.\n",
    ":::"
   ]
  },
  {
   "cell_type": "code",
   "execution_count": 2,
   "id": "5ffba1f7-e455-4dce-a645-38988d97b01b",
   "metadata": {},
   "outputs": [],
   "source": [
    "import ipywidgets as widgets\n",
    "\n",
    "cookiesSlider = widgets.IntSlider(min=0, max=30, step=1, value=10, description=\"Cookies: \")\n",
    "cookiesText = widgets.BoundedIntText(\n",
    "    value=10,\n",
    "    min=0,\n",
    "    max=30,\n",
    "    step=1,\n",
    ")\n",
    "widgetLink = widgets.jslink((cookiesSlider, 'value'), (cookiesText, 'value'))\n",
    "\n",
    "caloriesPerCookie = 50\n",
    "dailyCalories = 2100.\n",
    "\n",
    "calories = widgets.Label(value=f'{cookiesSlider.value * caloriesPerCookie}')\n",
    "def fc(n):\n",
    "    calories.value = f'{n[\"owner\"].value * caloriesPerCookie}'\n",
    "cookiesSlider.observe(fc)\n",
    "\n",
    "\n",
    "percent = widgets.Label(value=f'{cookiesSlider.value * caloriesPerCookie / dailyCalories:.1%}')\n",
    "def fp(n):\n",
    "    percent.value = f'{n[\"owner\"].value * caloriesPerCookie / dailyCalories:.1%}'\n",
    "cookiesSlider.observe(fp)"
   ]
  },
  {
   "cell_type": "markdown",
   "id": "b8ac6e3c-2982-4921-a882-6b4eeaffe936",
   "metadata": {
    "user_expressions": [
     {
      "expression": "cookiesText",
      "result": {
       "data": {
        "application/vnd.jupyter.widget-view+json": {
         "model_id": "e73f0e5d2a074a7aaa57d27036cf0529",
         "version_major": 2,
         "version_minor": 0
        },
        "text/plain": "BoundedIntText(value=10, max=30)"
       },
       "metadata": {},
       "status": "ok"
      }
     },
     {
      "expression": "calories",
      "result": {
       "data": {
        "application/vnd.jupyter.widget-view+json": {
         "model_id": "579d4896c6df4e4e960524fa29370bcb",
         "version_major": 2,
         "version_minor": 0
        },
        "text/plain": "Label(value='500')"
       },
       "metadata": {},
       "status": "ok"
      }
     },
     {
      "expression": "percent",
      "result": {
       "data": {
        "application/vnd.jupyter.widget-view+json": {
         "model_id": "420d43731a9a42498ccd64b7f248828b",
         "version_major": 2,
         "version_minor": 0
        },
        "text/plain": "Label(value='23.8%')"
       },
       "metadata": {},
       "status": "ok"
      }
     },
     {
      "expression": "cookiesSlider",
      "result": {
       "data": {
        "application/vnd.jupyter.widget-view+json": {
         "model_id": "8359988717884db7be6b445e03c5d9c7",
         "version_major": 2,
         "version_minor": 0
        },
        "text/plain": "IntSlider(value=10, description='Cookies: ', max=30)"
       },
       "metadata": {},
       "status": "ok"
      }
     }
    ]
   },
   "source": [
    ":::{important} Calculate Consuming Cookie Calories 🍪 🧮\n",
    "When you eat {eval}`cookiesText` cookies, you consume {eval}`calories` calories. \\\n",
    "That's {eval}`percent` of your recommended daily calories.\n",
    ":::\n",
    "\n",
    "You can also edit this through a slider if you want: {eval}`cookiesSlider`\n",
    "\n",
    ":::{note} Improvements\n",
    ":class: dropdown\n",
    "There is a lot to improve both for formatting (e.g. format the numbering) and for the verbosity of the above code for linking and calculating the widgets.\n",
    "These are probably going to be a combination of a MyST library for working with simple inline widgets and showing numbers, as well as improvements and tweaks to the inline renderers for the mime bundles.\n",
    "\n",
    "But you can already do things! 🚀\n",
    ":::"
   ]
  },
  {
   "cell_type": "code",
   "execution_count": 3,
   "id": "7a29588f-afb7-4e2b-99fb-132c6ab04372",
   "metadata": {},
   "outputs": [],
   "source": [
    "import numpy as np\n",
    "import matplotlib.pyplot as plt\n",
    "\n",
    "def plotStocks(line_color = 'b'):\n",
    "    # Step 1: Predict the stock market, with surprising accuracy:\n",
    "    data = np.cumsum(np.random.rand(1000)-0.5)\n",
    "    data = data - np.mean(data)\n",
    "\n",
    "    stocks = plt.figure(figsize=(10,2))\n",
    "    ax1 = stocks.add_subplot(111)\n",
    "    ax1.plot(data, line_color)\n",
    "    ax1.axhline(c='grey', alpha=0.5);\n",
    "    plt.axis('off')\n",
    "    plt.tight_layout();\n",
    "    plt.close();\n",
    "\n",
    "    annotated = plt.figure(figsize=(10,2))\n",
    "    ax1 = annotated.add_subplot(111)\n",
    "    plt.axvspan(450, 560, color='red', alpha=0.5)\n",
    "    plt.axvspan(680, 740, color='green', alpha=0.5)\n",
    "    ax1.plot(data, line_color)\n",
    "    ax1.axhline(c='grey', alpha=0.5);\n",
    "    plt.axis('off')\n",
    "    plt.tight_layout();\n",
    "    plt.close();\n",
    "    \n",
    "    return stocks, annotated"
   ]
  },
  {
   "cell_type": "code",
   "execution_count": 4,
   "id": "8a1f028a-ba98-4815-9c39-b22a8f70d665",
   "metadata": {},
   "outputs": [],
   "source": [
    "stocks, annotated = plotStocks('r')"
   ]
  },
  {
   "cell_type": "markdown",
   "id": "60a959ef-e31b-4383-9865-982e574debd3",
   "metadata": {
    "user_expressions": [
     {
      "expression": "stocks",
      "result": {
       "data": {
        "image/png": "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",
        "text/plain": "<Figure size 1000x200 with 1 Axes>"
       },
       "metadata": {},
       "status": "ok"
      }
     },
     {
      "expression": "annotated",
      "result": {
       "data": {
        "image/png": "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",
        "text/plain": "<Figure size 1000x200 with 1 Axes>"
       },
       "metadata": {},
       "status": "ok"
      }
     }
    ]
   },
   "source": [
    "\n",
    "If we look at the following stock price for [Apple](https://en.wikipedia.org/wiki/Apple_Inc.) ({eval}`stocks`) we can see that in 2003, they started selling [computers](https://en.wikipedia.org/wiki/MacBook_Pro), in the red region and their stock went crazy once the investment paid off ({eval}`annotated`).[^note]\n",
    "\n",
    "[^note]: Both the graphs are fake, but pretty cool right!  "
   ]
  },
  {
   "cell_type": "code",
   "execution_count": 5,
   "id": "612c2e45-8096-4fee-89d4-9732d56ec247",
   "metadata": {},
   "outputs": [
    {
     "ename": "ModuleNotFoundError",
     "evalue": "No module named 'sympy'",
     "output_type": "error",
     "traceback": [
      "\u001b[0;31m---------------------------------------------------------------------------\u001b[0m",
      "\u001b[0;31mModuleNotFoundError\u001b[0m                       Traceback (most recent call last)",
      "Cell \u001b[0;32mIn[5], line 1\u001b[0m\n\u001b[0;32m----> 1\u001b[0m \u001b[38;5;28;01mfrom\u001b[39;00m \u001b[38;5;21;01msympy\u001b[39;00m \u001b[38;5;28;01mimport\u001b[39;00m symbols, expand\n\u001b[1;32m      2\u001b[0m x, y \u001b[38;5;241m=\u001b[39m symbols(\u001b[38;5;124m'\u001b[39m\u001b[38;5;124mx y\u001b[39m\u001b[38;5;124m'\u001b[39m)\n\u001b[1;32m      3\u001b[0m expr \u001b[38;5;241m=\u001b[39m x \u001b[38;5;241m+\u001b[39m \u001b[38;5;241m2\u001b[39m\u001b[38;5;241m*\u001b[39my\n",
      "\u001b[0;31mModuleNotFoundError\u001b[0m: No module named 'sympy'"
     ]
    }
   ],
   "source": [
    "from sympy import symbols, expand\n",
    "x, y = symbols('x y')\n",
    "expr = x + 2*y\n",
    "polynomial = x*expr"
   ]
  },
  {
   "cell_type": "markdown",
   "id": "319276f3-c4c6-4b9e-8131-27c9d8e7671d",
   "metadata": {
    "user_expressions": [
     {
      "expression": "polynomial",
      "result": {
       "data": {
        "text/latex": "$\\displaystyle x \\left(x + 2 y\\right)$",
        "text/plain": "x*(x + 2*y)"
       },
       "metadata": {},
       "status": "ok"
      }
     },
     {
      "expression": "expand(polynomial)",
      "result": {
       "data": {
        "text/latex": "$\\displaystyle x^{2} + 2 x y$",
        "text/plain": "x**2 + 2*x*y"
       },
       "metadata": {},
       "status": "ok"
      }
     }
    ]
   },
   "source": [
    "🛠 Try changing the `expr` above and then re-execute this cell to see the update!\n",
    "\n",
    "When we expand the polynomial {eval}`polynomial`, we get {eval}`expand(polynomial)`."
   ]
  },
  {
   "cell_type": "code",
   "execution_count": 7,
   "id": "600e74dc-6c54-4cb4-91c3-0e5107fcf589",
   "metadata": {},
   "outputs": [],
   "source": [
    "from IPython.display import Image, HTML\n",
    "\n",
    "i = Image(url='https://source.unsplash.com/random/400x50?sunset')"
   ]
  },
  {
   "cell_type": "markdown",
   "id": "edafa8a3-8dcd-4db3-a4cf-90c6aaf461bb",
   "metadata": {
    "user_expressions": [
     {
      "expression": "i",
      "result": {
       "data": {
        "text/html": "<img src=\"https://source.unsplash.com/random/400x50?sunset\"/>",
        "text/plain": "<IPython.core.display.Image object>"
       },
       "metadata": {},
       "status": "ok"
      }
     }
    ]
   },
   "source": [
    "This should be an inline image of a sunset: {eval}`i`"
   ]
  },
  {
   "cell_type": "code",
   "execution_count": 8,
   "id": "463cdcbe-066d-4187-bf4a-d09b4233666f",
   "metadata": {},
   "outputs": [],
   "source": [
    "text_hover = HTML('<span onmouseover=\"this.innerText=\\'💚\\'\" onmouseout=\"this.innerText=\\'🎉\\'\">❤️</span>')"
   ]
  },
  {
   "cell_type": "markdown",
   "id": "dd711f73-94eb-4da4-ba01-2ac822450a2f",
   "metadata": {
    "tags": [],
    "user_expressions": [
     {
      "expression": "text_hover",
      "result": {
       "data": {
        "text/html": "<span onmouseover=\"this.innerText='💚'\" onmouseout=\"this.innerText='🎉'\">❤️</span>",
        "text/plain": "<IPython.core.display.HTML object>"
       },
       "metadata": {},
       "status": "ok"
      }
     }
    ]
   },
   "source": [
    "Try hovering over this element[^trust]: {eval}`text_hover`\n",
    "\n",
    "[^trust]: You may need to set your notebook to trusted to do this!"
   ]
  }
 ],
 "metadata": {
  "kernelspec": {
   "display_name": "Python 3 (ipykernel)",
   "language": "python",
   "name": "python3"
  },
  "language_info": {
   "codemirror_mode": {
    "name": "ipython",
    "version": 3
   },
   "file_extension": ".py",
   "mimetype": "text/x-python",
   "name": "python",
   "nbconvert_exporter": "python",
   "pygments_lexer": "ipython3",
   "version": "3.12.1"
  }
 },
 "nbformat": 4,
 "nbformat_minor": 5
}