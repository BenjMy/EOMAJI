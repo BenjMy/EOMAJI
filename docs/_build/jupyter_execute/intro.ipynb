{
 "cells": [
  {
   "cell_type": "markdown",
   "id": "a05e1913",
   "metadata": {},
   "source": [
    "---\n",
    "\n",
    "# Welcome to your Jupyter Book\n",
    "\n",
    "This is a small sample book to give you a feel for how book content is\n",
    "structured.\n",
    "It shows off a few of the major file types, as well as some sample content.\n",
    "It does not go in-depth into any particular topic - check out [the Jupyter Book documentation](https://jupyterbook.org) for more information.\n",
    "\n",
    "Check out the content pages bundled with this sample book to see more.\n",
    "\n",
    "```{tableofcontents}\n",
    "```"
   ]
  }
 ],
 "metadata": {
  "authors": [
   {
    "affiliations": [
     "ICA-CSIC"
    ],
    "corresponding": true,
    "email": "benjamin.mary@ica.csic.es",
    "name": "Benjamin Mary",
    "orcid": "0000-0001-7199-2885"
   }
  ],
  "description": "Field site and processing tools description",
  "jupytext": {
   "cell_metadata_filter": "-all",
   "formats": "md:myst",
   "text_representation": {
    "extension": ".md",
    "format_name": "myst",
    "format_version": 0.13,
    "jupytext_version": "1.16.1"
   }
  },
  "kernelspec": {
   "display_name": "pyTSEB",
   "language": "python",
   "name": "pytseb"
  },
  "source_map": [
   23
  ],
  "title": "Readme"
 },
 "nbformat": 4,
 "nbformat_minor": 5
}