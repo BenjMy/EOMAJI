{
 "cells": [
  {
   "cell_type": "markdown",
   "metadata": {},
   "source": [
    "# Title notebook"
   ]
  },
  {
   "cell_type": "markdown",
   "metadata": {},
   "source": [
    "---\n",
    "title: pyTSEB\n",
    "project:\n",
    "  license: CC-BY-4.0\n",
    "  open_access: true\n",
    "date: 2024-02-09\n",
    "authors:\n",
    "  - name: Benjamin Mary\n",
    "    orcid: 0000-0001-7199-2885\n",
    "    corresponding: true\n",
    "    email: benjamin.mary@ica.csic.es\n",
    "    affiliations:\n",
    "      - ICA-CSIC\n",
    "\n",
    "---"
   ]
  },
  {
   "cell_type": "code",
   "execution_count": null,
   "metadata": {},
   "outputs": [],
   "source": [
    "import pyTSEB"
   ]
  }
 ],
 "metadata": {
  "kernelspec": {
   "display_name": "pyTSEB",
   "language": "python",
   "name": "pytseb"
  },
  "language_info": {
   "codemirror_mode": {
    "name": "ipython",
    "version": 3
   },
   "file_extension": ".py",
   "mimetype": "text/x-python",
   "name": "python",
   "nbconvert_exporter": "python",
   "pygments_lexer": "ipython3",
   "version": "3.12.1"
  },
  "widgets": {
   "application/vnd.jupyter.widget-state+json": {
    "state": {},
    "version_major": 2,
    "version_minor": 0
   }
  }
 },
 "nbformat": 4,
 "nbformat_minor": 4
}
